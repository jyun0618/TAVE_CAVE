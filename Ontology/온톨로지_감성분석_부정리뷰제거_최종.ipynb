{
 "cells": [
  {
   "cell_type": "code",
   "execution_count": 60,
   "id": "42962c3d-2c3d-44e3-bb70-cb56af11c60d",
   "metadata": {},
   "outputs": [],
   "source": [
    "import pandas as pd\n",
    "import re\n",
    "from konlpy.tag import Okt"
   ]
  },
  {
   "cell_type": "code",
   "execution_count": 61,
   "id": "60a82310-6555-40f9-a817-93558da7cdb4",
   "metadata": {},
   "outputs": [],
   "source": [
    "# 형태소 분석기 선언\n",
    "okt = Okt()\n",
    "\n",
    "# 🔥 부정 키워드 목록 \n",
    "negative_keywords = ['재미없', '노잼', '불편', '불만', '짜증', '실망', '별로', '최악', '지루', '유치해', \n",
    "    '답답', '이상', '비추', '불쾌', '싫', '아쉽', '꺼려', '나오고싶', '중간에 보다가', '그냥 그렇','속았음', \n",
    "    '아니', '할말없', '못', '아닌', '망작', '실패', '미흡', '부족', '어이없', '흥미가 계속되지않는다','하아',\n",
    "    '집중은 힘들 것 같다', '안됨', '으악','ㅡㅡ','안본다','왜봤지','이상해','심하다','공감되는 건','유머요','기빨려',\n",
    "    '씁쓸함','음썽','집중이','집중을','아까워','안됨','의리로','길었어','집중이 잘 안된다','잃는다','어수선하다','하차',\n",
    "    '아깝','우롱','장난하나','꺼져','잼있어?','우울','산으로','아쉬움','모르겠네요','왜봤지','개판이네','재미가 없다','조잡하다',\n",
    "    '몰입이 안됨','장난해?','이해안돼','초반에만','스트레스받아','정신차려라','시간 아깝다','쓸데없이','정신없어요','뭐에요;','가볍다.'\n",
    "    '시작은','음','재미없어요','재미가 없다','응','없','재미없어','답답했다.','당황스러움','유치함','미흡하고','이해안돼','너무재미없다']\n",
    "\n",
    "# 🔥 텍스트 데이터 불러오기\n",
    "with open('Ontology_filtered_reviews2.txt', 'r', encoding='utf-8') as f:\n",
    "    lines = f.readlines()"
   ]
  },
  {
   "cell_type": "code",
   "execution_count": 62,
   "id": "f1eaf58e-2f44-4d03-8fd6-bfd3cf9b45be",
   "metadata": {},
   "outputs": [
    {
     "name": "stdout",
     "output_type": "stream",
     "text": [
      "총 982개의 리뷰가 있습니다.\n",
      "                 drama                                             review\n",
      "0  (아는 건 별로 없지만) 가족입니다  흔하디 흔한 자극적 전개가 아닐까싶었지만 볼수록 오묘하고 생각하게 만드는 이야기들이...\n",
      "1  (아는 건 별로 없지만) 가족입니다                                   가족은 같이 살아온 세월이다.\n",
      "2              1%의 어떤것                                                 음.\n",
      "3               18 어게인  뭐 유치하지만 재밌다 가볍게 보기좋다 드라마가 재밌음댔지 갑자기 교훈 +감동+ 억지...\n",
      "4               18 어게인                                     눈물이 났다 왠지 모르게…\n"
     ]
    }
   ],
   "source": [
    "# 🔥 데이터프레임으로 변환\n",
    "dramas = []\n",
    "reviews = []\n",
    "\n",
    "for line in lines:\n",
    "    line = line.strip()\n",
    "    if line.startswith('[') and line.endswith(']'):\n",
    "        current_drama = line.strip('[]')\n",
    "    elif line != '':\n",
    "        dramas.append(current_drama)\n",
    "        reviews.append(line)\n",
    "\n",
    "df = pd.DataFrame({'drama': dramas, 'review': reviews})\n",
    "\n",
    "print(f\"총 {len(df)}개의 리뷰가 있습니다.\")\n",
    "print(df.head())"
   ]
  },
  {
   "cell_type": "code",
   "execution_count": 63,
   "id": "fc01b65e-d6a5-4f95-adbf-de57588be6c3",
   "metadata": {},
   "outputs": [],
   "source": [
    "# 🔥 텍스트 클렌징 함수\n",
    "def clean_text(text):\n",
    "    text = re.sub(r'[^가-힣\\s]', '', str(text))  # 한글과 공백만 남김\n",
    "    return text\n",
    "\n",
    "def is_negative(review):\n",
    "    review_clean = clean_text(review)\n",
    "    tokens = okt.morphs(review_clean)  # 형태소 분석\n",
    "    for kw in negative_keywords:\n",
    "        if any(kw in token for token in tokens):\n",
    "            return True\n",
    "    return False"
   ]
  },
  {
   "cell_type": "code",
   "execution_count": 64,
   "id": "39e9d556-1733-4792-9f41-636cc329ca81",
   "metadata": {},
   "outputs": [
    {
     "name": "stdout",
     "output_type": "stream",
     "text": [
      "부정 리뷰 제거 후 754개의 리뷰가 남았습니다.\n",
      "                 drama                                             review\n",
      "0  (아는 건 별로 없지만) 가족입니다  흔하디 흔한 자극적 전개가 아닐까싶었지만 볼수록 오묘하고 생각하게 만드는 이야기들이...\n",
      "1  (아는 건 별로 없지만) 가족입니다                                   가족은 같이 살아온 세월이다.\n",
      "4               18 어게인                                     눈물이 났다 왠지 모르게…\n",
      "5               18 어게인                기분 좋아지는 휴먼 판타지 이도현의 발견, 찐 농구 장면 인정~\n",
      "9                   가면                                         메이 보려고 봣어요\n"
     ]
    }
   ],
   "source": [
    "# 🔥 부정 리뷰 제거\n",
    "df['is_negative'] =df['is_negative'] = df['review'].apply(\n",
    "    lambda x: any(kw in clean_text(x) for kw in negative_keywords)\n",
    ")\n",
    "filtered_df = df[df['is_negative'] == False].drop(columns=['is_negative'])\n",
    "\n",
    "print(f\"부정 리뷰 제거 후 {len(filtered_df)}개의 리뷰가 남았습니다.\")\n",
    "print(filtered_df.head())"
   ]
  },
  {
   "cell_type": "code",
   "execution_count": 65,
   "id": "167d452d-7118-43f9-967e-3287fb8eda7b",
   "metadata": {},
   "outputs": [
    {
     "name": "stdout",
     "output_type": "stream",
     "text": [
      "✅ 'filtered_reviews.csv' 파일로 저장 완료!\n"
     ]
    }
   ],
   "source": [
    "# 🔥 결과 저장\n",
    "filtered_df.to_csv('Ontology_positive_reviews8.csv', index=False, encoding='utf-8-sig')\n",
    "print(\"✅ 'filtered_reviews.csv' 파일로 저장 완료!\")"
   ]
  },
  {
   "cell_type": "code",
   "execution_count": 66,
   "id": "816f9280-e639-42d6-a293-90e129f7b9a8",
   "metadata": {},
   "outputs": [],
   "source": [
    "data1 = pd.read_csv('Ontology_positive_reviews6.csv')\n",
    "data2= pd.read_csv('Ontology_positive_reviews7.csv')\n",
    "data3= pd.read_csv('Ontology_positive_reviews8.csv')"
   ]
  },
  {
   "cell_type": "code",
   "execution_count": 67,
   "id": "c42994d3-c895-4640-ad10-392c9c4adeb7",
   "metadata": {},
   "outputs": [
    {
     "data": {
      "text/plain": [
       "291"
      ]
     },
     "execution_count": 67,
     "metadata": {},
     "output_type": "execute_result"
    }
   ],
   "source": [
    "len(data1['drama'].unique())"
   ]
  },
  {
   "cell_type": "code",
   "execution_count": 68,
   "id": "1092a125-f16a-4c93-8f9a-27fe4994a9b2",
   "metadata": {},
   "outputs": [
    {
     "data": {
      "text/plain": [
       "285"
      ]
     },
     "execution_count": 68,
     "metadata": {},
     "output_type": "execute_result"
    }
   ],
   "source": [
    "len(data2['drama'].unique())"
   ]
  },
  {
   "cell_type": "code",
   "execution_count": 69,
   "id": "67d00fc1-a26b-453d-90ed-5db6d16b9694",
   "metadata": {},
   "outputs": [
    {
     "data": {
      "text/plain": [
       "279"
      ]
     },
     "execution_count": 69,
     "metadata": {},
     "output_type": "execute_result"
    }
   ],
   "source": [
    "len(data3['drama'].unique())"
   ]
  },
  {
   "cell_type": "code",
   "execution_count": null,
   "id": "ada235ce-ca6f-4836-bee0-7271a5ba9aee",
   "metadata": {},
   "outputs": [],
   "source": []
  }
 ],
 "metadata": {
  "kernelspec": {
   "display_name": "Python 3 (ipykernel)",
   "language": "python",
   "name": "python3"
  },
  "language_info": {
   "codemirror_mode": {
    "name": "ipython",
    "version": 3
   },
   "file_extension": ".py",
   "mimetype": "text/x-python",
   "name": "python",
   "nbconvert_exporter": "python",
   "pygments_lexer": "ipython3",
   "version": "3.10.16"
  }
 },
 "nbformat": 4,
 "nbformat_minor": 5
}
