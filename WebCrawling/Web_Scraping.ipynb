{
  "nbformat": 4,
  "nbformat_minor": 0,
  "metadata": {
    "colab": {
      "private_outputs": true,
      "provenance": []
    },
    "kernelspec": {
      "name": "python3",
      "display_name": "Python 3"
    },
    "language_info": {
      "name": "python"
    }
  },
  "cells": [
    {
      "cell_type": "code",
      "execution_count": null,
      "metadata": {
        "id": "tkKaCa2Qh589"
      },
      "outputs": [],
      "source": [
        "# 셀레니움 설치\n",
        "!pip install selenium\n",
        "\n",
        "# 크롬드라이버 및 크롬 설치\n",
        "!apt-get update\n",
        "!apt install -y chromium-chromedriver\n",
        "\n",
        "# 환경변수 등록\n",
        "!cp /usr/lib/chromium-browser/chromedriver /usr/bin\n",
        "\n",
        "# 경로 설정\n",
        "import sys\n",
        "sys.path.insert(0, '/usr/lib/chromium-browser/')"
      ]
    },
    {
      "cell_type": "code",
      "source": [
        "!apt update\n",
        "!apt install -y wget unzip\n",
        "!wget https://dl.google.com/linux/direct/google-chrome-stable_current_amd64.deb\n",
        "!dpkg -i google-chrome-stable_current_amd64.deb\n",
        "!apt --fix-broken install -y\n",
        "\n",
        "# 크롬드라이버 설치 (chrome 버전에 맞게 자동 설치됨)\n",
        "!wget -N https://chromedriver.storage.googleapis.com/114.0.5735.90/chromedriver_linux64.zip\n",
        "!unzip -o chromedriver_linux64.zip -d /usr/bin/\n",
        "!chmod +x /usr/bin/chromedriver"
      ],
      "metadata": {
        "id": "rHe_3bjriajp"
      },
      "execution_count": null,
      "outputs": []
    },
    {
      "cell_type": "code",
      "source": [
        "!google-chrome --version"
      ],
      "metadata": {
        "id": "VWSb6eI3if3p"
      },
      "execution_count": null,
      "outputs": []
    },
    {
      "cell_type": "code",
      "source": [
        "!wget -N https://edgedl.me.gvt1.com/edgedl/chrome/chrome-for-testing/137.0.7151.55/linux64/chromedriver-linux64.zip\n",
        "!unzip -o chromedriver-linux64.zip -d /usr/bin/\n",
        "!mv /usr/bin/chromedriver-linux64/chromedriver /usr/bin/chromedriver\n",
        "!chmod +x /usr/bin/chromedriver"
      ],
      "metadata": {
        "id": "5aLurD6xiiwl"
      },
      "execution_count": null,
      "outputs": []
    },
    {
      "cell_type": "code",
      "source": [
        "import time\n",
        "from selenium import webdriver\n",
        "from selenium.webdriver.chrome.options import Options\n",
        "from bs4 import BeautifulSoup\n",
        "\n",
        "# 1. Selenium 옵션 설정\n",
        "options = Options()\n",
        "options.add_argument('--headless')  # 브라우저 띄우지 않음\n",
        "options.add_argument('--no-sandbox')\n",
        "options.add_argument('--disable-dev-shm-usage')\n",
        "\n",
        "# 2. 크롬 드라이버 실행\n",
        "driver = webdriver.Chrome(options=options)\n",
        "\n",
        "# 3. Watcha 콘텐츠 댓글 URL (눈물의 여왕)\n",
        "url = \"https://pedia.watcha.com/ko-KR/contents/tR2ednW/comments\"\n",
        "driver.get(url)\n",
        "time.sleep(5)\n",
        "\n",
        "# 4. 스크롤을 내려서 댓글 더 로딩\n",
        "for _ in range(5):\n",
        "    driver.execute_script(\"window.scrollTo(0, document.body.scrollHeight);\")\n",
        "    time.sleep(3)\n",
        "\n",
        "# 5. HTML 소스 저장\n",
        "html = driver.page_source\n",
        "driver.quit()\n",
        "\n",
        "# 6. BeautifulSoup으로 파싱\n",
        "soup = BeautifulSoup(html, 'html.parser')\n",
        "\n",
        "# 7. 댓글 추출: p 태그 중 CommentText 클래스\n",
        "comment_tags = soup.find_all(\"p\", class_=\"BEKXQlwB vc3vf0Y6 CommentText\")\n",
        "comments = [tag.get_text(strip=True) for tag in comment_tags]\n",
        "\n",
        "# 8. 결과 출력\n",
        "print(f\"총 {len(comments)}개의 댓글을 추출했습니다:\\n\")\n",
        "for i, comment in enumerate(comments, 1):\n",
        "    print(f\"{i}. {comment}\\n\")\n",
        "\n",
        "# 9. 텍스트 파일 저장\n",
        "with open(\"watcha_comments.txt\", \"w\", encoding=\"utf-8\") as f:\n",
        "    for comment in comments:\n",
        "        f.write(comment + \"\\n\")\n",
        "\n",
        "print(\"댓글 저장 완료: watcha_comments.txt\")"
      ],
      "metadata": {
        "id": "u1GjwPNpilP4"
      },
      "execution_count": null,
      "outputs": []
    }
  ]
}